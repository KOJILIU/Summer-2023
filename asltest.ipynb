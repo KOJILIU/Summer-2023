{
 "cells": [
  {
   "cell_type": "code",
   "execution_count": 1,
   "id": "583a89d2",
   "metadata": {
    "_cell_guid": "b1076dfc-b9ad-4769-8c92-a6c4dae69d19",
    "_uuid": "8f2839f25d086af736a60e9eeb907d3b93b6e0e5",
    "execution": {
     "iopub.execute_input": "2023-05-24T13:49:50.523365Z",
     "iopub.status.busy": "2023-05-24T13:49:50.522988Z",
     "iopub.status.idle": "2023-05-24T13:49:50.596208Z",
     "shell.execute_reply": "2023-05-24T13:49:50.595007Z"
    },
    "papermill": {
     "duration": 0.0823,
     "end_time": "2023-05-24T13:49:50.599602",
     "exception": false,
     "start_time": "2023-05-24T13:49:50.517302",
     "status": "completed"
    },
    "tags": []
   },
   "outputs": [
    {
     "name": "stdout",
     "output_type": "stream",
     "text": [
      "/kaggle/input/asl-fingerspelling/supplemental_metadata.csv\n",
      "/kaggle/input/asl-fingerspelling/character_to_prediction_index.json\n",
      "/kaggle/input/asl-fingerspelling/train.csv\n",
      "/kaggle/input/asl-fingerspelling/supplemental_landmarks/371169664.parquet\n",
      "/kaggle/input/asl-fingerspelling/supplemental_landmarks/369584223.parquet\n",
      "/kaggle/input/asl-fingerspelling/supplemental_landmarks/1682915129.parquet\n",
      "/kaggle/input/asl-fingerspelling/supplemental_landmarks/775880548.parquet\n",
      "/kaggle/input/asl-fingerspelling/supplemental_landmarks/2100073719.parquet\n",
      "/kaggle/input/asl-fingerspelling/supplemental_landmarks/1650637630.parquet\n",
      "/kaggle/input/asl-fingerspelling/supplemental_landmarks/1471096258.parquet\n",
      "/kaggle/input/asl-fingerspelling/supplemental_landmarks/86446671.parquet\n",
      "/kaggle/input/asl-fingerspelling/supplemental_landmarks/897287709.parquet\n",
      "/kaggle/input/asl-fingerspelling/supplemental_landmarks/333606065.parquet\n",
      "/kaggle/input/asl-fingerspelling/supplemental_landmarks/2057261717.parquet\n",
      "/kaggle/input/asl-fingerspelling/supplemental_landmarks/971104021.parquet\n",
      "/kaggle/input/asl-fingerspelling/supplemental_landmarks/471766624.parquet\n",
      "/kaggle/input/asl-fingerspelling/supplemental_landmarks/1881515495.parquet\n",
      "/kaggle/input/asl-fingerspelling/supplemental_landmarks/1857374937.parquet\n",
      "/kaggle/input/asl-fingerspelling/supplemental_landmarks/293101677.parquet\n",
      "/kaggle/input/asl-fingerspelling/supplemental_landmarks/595441814.parquet\n",
      "/kaggle/input/asl-fingerspelling/supplemental_landmarks/1279694894.parquet\n",
      "/kaggle/input/asl-fingerspelling/supplemental_landmarks/756566775.parquet\n",
      "/kaggle/input/asl-fingerspelling/supplemental_landmarks/1471341722.parquet\n",
      "/kaggle/input/asl-fingerspelling/supplemental_landmarks/1112747136.parquet\n",
      "/kaggle/input/asl-fingerspelling/supplemental_landmarks/1756773911.parquet\n",
      "/kaggle/input/asl-fingerspelling/supplemental_landmarks/33432165.parquet\n",
      "/kaggle/input/asl-fingerspelling/supplemental_landmarks/1779786322.parquet\n",
      "/kaggle/input/asl-fingerspelling/supplemental_landmarks/1755047076.parquet\n",
      "/kaggle/input/asl-fingerspelling/supplemental_landmarks/1624527344.parquet\n",
      "/kaggle/input/asl-fingerspelling/supplemental_landmarks/597469033.parquet\n",
      "/kaggle/input/asl-fingerspelling/supplemental_landmarks/1505488209.parquet\n",
      "/kaggle/input/asl-fingerspelling/supplemental_landmarks/1144115867.parquet\n",
      "/kaggle/input/asl-fingerspelling/supplemental_landmarks/1249944812.parquet\n",
      "/kaggle/input/asl-fingerspelling/supplemental_landmarks/1118603411.parquet\n",
      "/kaggle/input/asl-fingerspelling/supplemental_landmarks/676340265.parquet\n",
      "/kaggle/input/asl-fingerspelling/supplemental_landmarks/716508881.parquet\n",
      "/kaggle/input/asl-fingerspelling/supplemental_landmarks/736978972.parquet\n",
      "/kaggle/input/asl-fingerspelling/supplemental_landmarks/1579345709.parquet\n",
      "/kaggle/input/asl-fingerspelling/supplemental_landmarks/285528514.parquet\n",
      "/kaggle/input/asl-fingerspelling/supplemental_landmarks/1047404576.parquet\n",
      "/kaggle/input/asl-fingerspelling/supplemental_landmarks/697480828.parquet\n",
      "/kaggle/input/asl-fingerspelling/supplemental_landmarks/1032110484.parquet\n",
      "/kaggle/input/asl-fingerspelling/supplemental_landmarks/440362090.parquet\n",
      "/kaggle/input/asl-fingerspelling/supplemental_landmarks/924144755.parquet\n",
      "/kaggle/input/asl-fingerspelling/supplemental_landmarks/639454452.parquet\n",
      "/kaggle/input/asl-fingerspelling/supplemental_landmarks/236903981.parquet\n",
      "/kaggle/input/asl-fingerspelling/supplemental_landmarks/636900267.parquet\n",
      "/kaggle/input/asl-fingerspelling/supplemental_landmarks/1176508147.parquet\n",
      "/kaggle/input/asl-fingerspelling/supplemental_landmarks/131312512.parquet\n",
      "/kaggle/input/asl-fingerspelling/supplemental_landmarks/778903889.parquet\n",
      "/kaggle/input/asl-fingerspelling/supplemental_landmarks/193950599.parquet\n",
      "/kaggle/input/asl-fingerspelling/supplemental_landmarks/442061898.parquet\n",
      "/kaggle/input/asl-fingerspelling/supplemental_landmarks/95345213.parquet\n",
      "/kaggle/input/asl-fingerspelling/supplemental_landmarks/1407656790.parquet\n",
      "/kaggle/input/asl-fingerspelling/supplemental_landmarks/680303484.parquet\n",
      "/kaggle/input/asl-fingerspelling/supplemental_landmarks/1727438550.parquet\n",
      "/kaggle/input/asl-fingerspelling/train_landmarks/1358493307.parquet\n",
      "/kaggle/input/asl-fingerspelling/train_landmarks/495378749.parquet\n",
      "/kaggle/input/asl-fingerspelling/train_landmarks/2118949241.parquet\n",
      "/kaggle/input/asl-fingerspelling/train_landmarks/5414471.parquet\n",
      "/kaggle/input/asl-fingerspelling/train_landmarks/1133664520.parquet\n",
      "/kaggle/input/asl-fingerspelling/train_landmarks/433948159.parquet\n",
      "/kaggle/input/asl-fingerspelling/train_landmarks/1920330615.parquet\n",
      "/kaggle/input/asl-fingerspelling/train_landmarks/683666742.parquet\n",
      "/kaggle/input/asl-fingerspelling/train_landmarks/1365772051.parquet\n",
      "/kaggle/input/asl-fingerspelling/train_landmarks/939623093.parquet\n",
      "/kaggle/input/asl-fingerspelling/train_landmarks/1405046009.parquet\n",
      "/kaggle/input/asl-fingerspelling/train_landmarks/450474571.parquet\n",
      "/kaggle/input/asl-fingerspelling/train_landmarks/149822653.parquet\n",
      "/kaggle/input/asl-fingerspelling/train_landmarks/152029243.parquet\n",
      "/kaggle/input/asl-fingerspelling/train_landmarks/1552432300.parquet\n",
      "/kaggle/input/asl-fingerspelling/train_landmarks/1365275733.parquet\n",
      "/kaggle/input/asl-fingerspelling/train_landmarks/1880177496.parquet\n",
      "/kaggle/input/asl-fingerspelling/train_landmarks/1021040628.parquet\n",
      "/kaggle/input/asl-fingerspelling/train_landmarks/1557244878.parquet\n",
      "/kaggle/input/asl-fingerspelling/train_landmarks/1497621680.parquet\n",
      "/kaggle/input/asl-fingerspelling/train_landmarks/522550314.parquet\n",
      "/kaggle/input/asl-fingerspelling/train_landmarks/649779897.parquet\n",
      "/kaggle/input/asl-fingerspelling/train_landmarks/1905462118.parquet\n",
      "/kaggle/input/asl-fingerspelling/train_landmarks/175396851.parquet\n",
      "/kaggle/input/asl-fingerspelling/train_landmarks/638508439.parquet\n",
      "/kaggle/input/asl-fingerspelling/train_landmarks/532011803.parquet\n",
      "/kaggle/input/asl-fingerspelling/train_landmarks/2072296290.parquet\n",
      "/kaggle/input/asl-fingerspelling/train_landmarks/1906357076.parquet\n",
      "/kaggle/input/asl-fingerspelling/train_landmarks/2026717426.parquet\n",
      "/kaggle/input/asl-fingerspelling/train_landmarks/1967755728.parquet\n",
      "/kaggle/input/asl-fingerspelling/train_landmarks/1785039512.parquet\n",
      "/kaggle/input/asl-fingerspelling/train_landmarks/1643479812.parquet\n",
      "/kaggle/input/asl-fingerspelling/train_landmarks/1134756332.parquet\n",
      "/kaggle/input/asl-fingerspelling/train_landmarks/1019715464.parquet\n",
      "/kaggle/input/asl-fingerspelling/train_landmarks/566963657.parquet\n",
      "/kaggle/input/asl-fingerspelling/train_landmarks/568753759.parquet\n",
      "/kaggle/input/asl-fingerspelling/train_landmarks/1726141437.parquet\n",
      "/kaggle/input/asl-fingerspelling/train_landmarks/296317215.parquet\n",
      "/kaggle/input/asl-fingerspelling/train_landmarks/234418913.parquet\n",
      "/kaggle/input/asl-fingerspelling/train_landmarks/614661748.parquet\n",
      "/kaggle/input/asl-fingerspelling/train_landmarks/654436541.parquet\n",
      "/kaggle/input/asl-fingerspelling/train_landmarks/474255203.parquet\n",
      "/kaggle/input/asl-fingerspelling/train_landmarks/1662742697.parquet\n",
      "/kaggle/input/asl-fingerspelling/train_landmarks/1099408314.parquet\n",
      "/kaggle/input/asl-fingerspelling/train_landmarks/1341528257.parquet\n",
      "/kaggle/input/asl-fingerspelling/train_landmarks/105143404.parquet\n",
      "/kaggle/input/asl-fingerspelling/train_landmarks/527708222.parquet\n",
      "/kaggle/input/asl-fingerspelling/train_landmarks/882979387.parquet\n",
      "/kaggle/input/asl-fingerspelling/train_landmarks/933868835.parquet\n",
      "/kaggle/input/asl-fingerspelling/train_landmarks/1969985709.parquet\n",
      "/kaggle/input/asl-fingerspelling/train_landmarks/425182931.parquet\n",
      "/kaggle/input/asl-fingerspelling/train_landmarks/1098899348.parquet\n",
      "/kaggle/input/asl-fingerspelling/train_landmarks/1255240050.parquet\n",
      "/kaggle/input/asl-fingerspelling/train_landmarks/1997878546.parquet\n",
      "/kaggle/input/asl-fingerspelling/train_landmarks/128822441.parquet\n",
      "/kaggle/input/asl-fingerspelling/train_landmarks/388576474.parquet\n",
      "/kaggle/input/asl-fingerspelling/train_landmarks/546816846.parquet\n",
      "/kaggle/input/asl-fingerspelling/train_landmarks/1320204318.parquet\n",
      "/kaggle/input/asl-fingerspelling/train_landmarks/1448136004.parquet\n",
      "/kaggle/input/asl-fingerspelling/train_landmarks/349393104.parquet\n",
      "/kaggle/input/asl-fingerspelling/train_landmarks/2072876091.parquet\n",
      "/kaggle/input/asl-fingerspelling/train_landmarks/871280215.parquet\n",
      "/kaggle/input/asl-fingerspelling/train_landmarks/1562234637.parquet\n",
      "/kaggle/input/asl-fingerspelling/train_landmarks/1865557033.parquet\n",
      "/kaggle/input/asl-fingerspelling/train_landmarks/1664666588.parquet\n",
      "/kaggle/input/asl-fingerspelling/train_landmarks/1647220008.parquet\n",
      "/kaggle/input/asl-fingerspelling/train_landmarks/2036580525.parquet\n",
      "/kaggle/input/asl-fingerspelling/train_landmarks/169560558.parquet\n"
     ]
    }
   ],
   "source": [
    "# This Python 3 environment comes with many helpful analytics libraries installed\n",
    "# It is defined by the kaggle/python Docker image: https://github.com/kaggle/docker-python\n",
    "# For example, here's several helpful packages to load\n",
    "\n",
    "import numpy as np # linear algebra\n",
    "import pandas as pd # data processing, CSV file I/O (e.g. pd.read_csv)\n",
    "\n",
    "# Input data files are available in the read-only \"../input/\" directory\n",
    "# For example, running this (by clicking run or pressing Shift+Enter) will list all files under the input directory\n",
    "\n",
    "import os\n",
    "for dirname, _, filenames in os.walk('/kaggle/input'):\n",
    "    for filename in filenames:\n",
    "        print(os.path.join(dirname, filename))\n",
    "\n",
    "# You can write up to 20GB to the current directory (/kaggle/working/) that gets preserved as output when you create a version using \"Save & Run All\" \n",
    "# You can also write temporary files to /kaggle/temp/, but they won't be saved outside of the current session"
   ]
  },
  {
   "cell_type": "code",
   "execution_count": 2,
   "id": "db0fe9a9",
   "metadata": {
    "execution": {
     "iopub.execute_input": "2023-05-24T13:49:50.608862Z",
     "iopub.status.busy": "2023-05-24T13:49:50.608191Z",
     "iopub.status.idle": "2023-05-24T13:50:00.902336Z",
     "shell.execute_reply": "2023-05-24T13:50:00.901250Z"
    },
    "papermill": {
     "duration": 10.301803,
     "end_time": "2023-05-24T13:50:00.905266",
     "exception": false,
     "start_time": "2023-05-24T13:49:50.603463",
     "status": "completed"
    },
    "tags": []
   },
   "outputs": [
    {
     "name": "stderr",
     "output_type": "stream",
     "text": [
      "/opt/conda/lib/python3.10/site-packages/scipy/__init__.py:146: UserWarning: A NumPy version >=1.16.5 and <1.23.0 is required for this version of SciPy (detected version 1.23.5\n",
      "  warnings.warn(f\"A NumPy version >={np_minversion} and <{np_maxversion}\"\n"
     ]
    }
   ],
   "source": [
    "from pathlib import Path\n",
    "import os\n",
    "import json\n",
    "from tqdm import tqdm\n",
    "from matplotlib import pyplot as plt\n",
    "\n",
    "import tensorflow as tf\n",
    "from tensorflow import keras\n",
    "from tensorflow.keras import layers\n",
    "from tensorflow.keras.models import Sequential"
   ]
  },
  {
   "cell_type": "code",
   "execution_count": 3,
   "id": "ff230288",
   "metadata": {
    "execution": {
     "iopub.execute_input": "2023-05-24T13:50:00.916195Z",
     "iopub.status.busy": "2023-05-24T13:50:00.914820Z",
     "iopub.status.idle": "2023-05-24T13:50:00.919927Z",
     "shell.execute_reply": "2023-05-24T13:50:00.919050Z"
    },
    "papermill": {
     "duration": 0.012888,
     "end_time": "2023-05-24T13:50:00.922388",
     "exception": false,
     "start_time": "2023-05-24T13:50:00.909500",
     "status": "completed"
    },
    "tags": []
   },
   "outputs": [],
   "source": [
    "DATA_DIR = '/kaggle/input/asl-fingerspelling'"
   ]
  },
  {
   "cell_type": "code",
   "execution_count": 4,
   "id": "dfb63b51",
   "metadata": {
    "execution": {
     "iopub.execute_input": "2023-05-24T13:50:00.931679Z",
     "iopub.status.busy": "2023-05-24T13:50:00.931076Z",
     "iopub.status.idle": "2023-05-24T13:50:01.053254Z",
     "shell.execute_reply": "2023-05-24T13:50:01.051820Z"
    },
    "papermill": {
     "duration": 0.129907,
     "end_time": "2023-05-24T13:50:01.055955",
     "exception": false,
     "start_time": "2023-05-24T13:50:00.926048",
     "status": "completed"
    },
    "tags": []
   },
   "outputs": [
    {
     "data": {
      "text/plain": [
       "<KerasTensor: shape=(1, 59) dtype=float32 (created by layer 'model')>"
      ]
     },
     "execution_count": 4,
     "metadata": {},
     "output_type": "execute_result"
    }
   ],
   "source": [
    "class Model(keras.layers.Layer):\n",
    "    def __init__(self):\n",
    "        super().__init__()\n",
    "\n",
    "    def call(self, x):\n",
    "        S, _ = x.shape\n",
    "        out = tf.zeros([1, 59])\n",
    "        return out\n",
    "    \n",
    "inputs = tf.keras.Input(shape=(1), name=\"inputs\")\n",
    "model = Model()\n",
    "x = tf.expand_dims(inputs,0)\n",
    "model(inputs)"
   ]
  },
  {
   "cell_type": "code",
   "execution_count": 5,
   "id": "9da8c784",
   "metadata": {
    "execution": {
     "iopub.execute_input": "2023-05-24T13:50:01.066177Z",
     "iopub.status.busy": "2023-05-24T13:50:01.065757Z",
     "iopub.status.idle": "2023-05-24T13:50:01.222485Z",
     "shell.execute_reply": "2023-05-24T13:50:01.221612Z"
    },
    "papermill": {
     "duration": 0.172108,
     "end_time": "2023-05-24T13:50:01.232437",
     "exception": false,
     "start_time": "2023-05-24T13:50:01.060329",
     "status": "completed"
    },
    "tags": []
   },
   "outputs": [
    {
     "name": "stdout",
     "output_type": "stream",
     "text": [
      "Model: \"model_1\"\n",
      "_________________________________________________________________\n",
      " Layer (type)                Output Shape              Param #   \n",
      "=================================================================\n",
      " inputs (InputLayer)         [(None, 1)]               0         \n",
      "                                                                 \n",
      " model (Model)               (1, 59)                   0         \n",
      "                                                                 \n",
      " outputs (Activation)        (1, 59)                   0         \n",
      "                                                                 \n",
      "=================================================================\n",
      "Total params: 0\n",
      "Trainable params: 0\n",
      "Non-trainable params: 0\n",
      "_________________________________________________________________\n"
     ]
    }
   ],
   "source": [
    "def get_inference_model(model):\n",
    "    inputs = tf.keras.Input(shape=(1), name=\"inputs\")\n",
    "    \n",
    "#     x = tf.expand_dims(inputs,0)\n",
    "    # call trained model\n",
    "    \n",
    "    out = model(inputs)\n",
    "\n",
    "    # explicitly name the final (identity) layer for the submission format\n",
    "    out = layers.Activation(\"linear\", name=\"outputs\")(out)\n",
    "\n",
    "    inference_model = tf.keras.Model(inputs=inputs, outputs=out)\n",
    "    inference_model.compile(loss=\"sparse_categorical_crossentropy\",\n",
    "                            metrics=\"accuracy\")\n",
    "    return inference_model\n",
    "\n",
    "inference_model = get_inference_model(model)\n",
    "inference_model.summary(expand_nested=True)"
   ]
  },
  {
   "cell_type": "code",
   "execution_count": 6,
   "id": "ffab7541",
   "metadata": {
    "execution": {
     "iopub.execute_input": "2023-05-24T13:50:01.244419Z",
     "iopub.status.busy": "2023-05-24T13:50:01.244003Z",
     "iopub.status.idle": "2023-05-24T13:50:01.271781Z",
     "shell.execute_reply": "2023-05-24T13:50:01.270299Z"
    },
    "papermill": {
     "duration": 0.037003,
     "end_time": "2023-05-24T13:50:01.274418",
     "exception": false,
     "start_time": "2023-05-24T13:50:01.237415",
     "status": "completed"
    },
    "tags": []
   },
   "outputs": [
    {
     "data": {
      "text/plain": [
       "TensorShape([1, 59])"
      ]
     },
     "execution_count": 6,
     "metadata": {},
     "output_type": "execute_result"
    }
   ],
   "source": [
    "inference_model(tf.random.normal([23,1])).shape"
   ]
  },
  {
   "cell_type": "code",
   "execution_count": 7,
   "id": "f7c29c64",
   "metadata": {
    "execution": {
     "iopub.execute_input": "2023-05-24T13:50:01.287303Z",
     "iopub.status.busy": "2023-05-24T13:50:01.286920Z",
     "iopub.status.idle": "2023-05-24T13:50:03.383952Z",
     "shell.execute_reply": "2023-05-24T13:50:03.382694Z"
    },
    "papermill": {
     "duration": 2.106639,
     "end_time": "2023-05-24T13:50:03.386643",
     "exception": false,
     "start_time": "2023-05-24T13:50:01.280004",
     "status": "completed"
    },
    "tags": []
   },
   "outputs": [
    {
     "name": "stdout",
     "output_type": "stream",
     "text": [
      "  adding: model.tflite (deflated 60%)\r\n"
     ]
    }
   ],
   "source": [
    "converter = tf.lite.TFLiteConverter.from_keras_model(inference_model)\n",
    "\n",
    "converter.optimizations = [tf.lite.Optimize.DEFAULT]\n",
    "converter.experimental_new_converter=True\n",
    "converter.target_spec.supported_ops = [tf.lite.OpsSet.TFLITE_BUILTINS,\n",
    "                                       tf.lite.OpsSet.SELECT_TF_OPS]\n",
    "\n",
    "tflite_model = converter.convert()\n",
    "\n",
    "model_path = \"model.tflite\"\n",
    "\n",
    "# Save the model.\n",
    "with open(model_path, 'wb') as f:\n",
    "    f.write(tflite_model)\n",
    "!zip submission.zip $model_path"
   ]
  }
 ],
 "metadata": {
  "kernelspec": {
   "display_name": "Python 3",
   "language": "python",
   "name": "python3"
  },
  "language_info": {
   "codemirror_mode": {
    "name": "ipython",
    "version": 3
   },
   "file_extension": ".py",
   "mimetype": "text/x-python",
   "name": "python",
   "nbconvert_exporter": "python",
   "pygments_lexer": "ipython3",
   "version": "3.10.10"
  },
  "papermill": {
   "default_parameters": {},
   "duration": 28.789171,
   "end_time": "2023-05-24T13:50:06.184818",
   "environment_variables": {},
   "exception": null,
   "input_path": "__notebook__.ipynb",
   "output_path": "__notebook__.ipynb",
   "parameters": {},
   "start_time": "2023-05-24T13:49:37.395647",
   "version": "2.4.0"
  }
 },
 "nbformat": 4,
 "nbformat_minor": 5
}
